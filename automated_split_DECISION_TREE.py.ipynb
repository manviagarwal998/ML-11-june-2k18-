{
 "cells": [
  {
   "cell_type": "code",
   "execution_count": 2,
   "metadata": {},
   "outputs": [
    {
     "name": "stdout",
     "output_type": "stream",
     "text": [
      "ORIGINAL OUTPUT : [2 1 1 2 0 0 1 0 1 1 2 1 1 2 0]\n",
      "PREDICTED OUTPUT IS : [2 1 1 2 0 0 1 0 1 2 2 1 1 2 0]\n",
      "% of accuracy 0.9333333333333333\n",
      "TREE CLASSIFICATION\n"
     ]
    }
   ],
   "source": [
    "#!/usr/bin/python3\n",
    "\n",
    "#getting data\n",
    "from sklearn.datasets import load_iris\n",
    "\n",
    "#for decision tree algorithm \n",
    "from sklearn import tree\n",
    "\n",
    "#to check percentage accuracy\n",
    "from sklearn.metrics import accuracy_score\n",
    "\n",
    "#to split into test and train datasets\n",
    "from sklearn.model_selection import train_test_split\n",
    "\n",
    "#to plot graph between test target and percentage\n",
    "import matplotlib.pyplot as plt\n",
    "\n",
    "#loading iris data\n",
    "iris=load_iris()\n",
    "\n",
    "#now splitting data in target and train datasets\n",
    "x,y,z,a=train_test_split(iris.data,iris.target,test_size=0.1)\n",
    "'''\n",
    "x = train_iris {all features value conatining 90%}\n",
    "y = test_iris {10%of the features }\n",
    "z = train_target {all labels containing 90%  iris.target}\n",
    "a = test_target {remaining 10% of iris.target}\n",
    "'''\n",
    "#calling decision tree classifier\n",
    "clf=tree.DecisionTreeClassifier()\n",
    "\n",
    "#now train data with decision tree\n",
    "trained=clf.fit(x,z)\n",
    "\n",
    "#original output \n",
    "print(\"ORIGINAL OUTPUT :\",a)\n",
    "\n",
    "#now prediction\n",
    "output=trained.predict(y)\n",
    "print(\"PREDICTED OUTPUT IS :\",output)\n",
    "\n",
    "#checking % of accuracy \n",
    "check_percentage=accuracy_score(a,output)\n",
    "print(\"% of accuracy\",check_percentage)\n",
    "\n",
    "#plotting graph between actual output and output after splitting\n",
    "\n",
    "\n",
    "\n",
    "\n",
    "#to plot graph between test target and percentage\n",
    "#import matplotlib.pyplot as plt\n",
    "'''export_graphviz(decision_tree, out_file=\"tree.dot\", max_depth=None, feature_names=None, class_names=None, label='all', filled=False, leaves_parallel=False, impurity=True, node_ids=False, proportion=False, rotate=False, rounded=False, special_characters=False, precision=3)'''\n",
    "print(\"TREE CLASSIFICATION\")\n",
    "tree.export_graphviz(clf, out_file=\"tree.dot\", max_depth=7, feature_names=iris.feature_names, class_names=iris.target_names, filled=True, rounded=True)\n",
    "\n"
   ]
  },
  {
   "cell_type": "code",
   "execution_count": null,
   "metadata": {},
   "outputs": [],
   "source": []
  }
 ],
 "metadata": {
  "kernelspec": {
   "display_name": "Python 3",
   "language": "python",
   "name": "python3"
  },
  "language_info": {
   "codemirror_mode": {
    "name": "ipython",
    "version": 3
   },
   "file_extension": ".py",
   "mimetype": "text/x-python",
   "name": "python",
   "nbconvert_exporter": "python",
   "pygments_lexer": "ipython3",
   "version": "3.5.2"
  }
 },
 "nbformat": 4,
 "nbformat_minor": 2
}
