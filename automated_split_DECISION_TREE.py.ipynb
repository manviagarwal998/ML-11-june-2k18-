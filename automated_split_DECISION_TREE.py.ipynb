{
 "cells": [
  {
   "cell_type": "code",
   "execution_count": 6,
   "metadata": {},
   "outputs": [
    {
     "name": "stdout",
     "output_type": "stream",
     "text": [
      "data when input percentage is : 0.2\n",
      "ORIGINAL OUTPUT : [1 1 1 0 1 1 0 2 1 0 2 0 1 2 2 2 1 1 0 0 0 0 2 1 2 1 2 1 2 0]\n",
      "PREDICTED OUTPUT IS : [1 1 1 0 2 2 0 2 1 0 2 0 1 2 2 2 1 1 0 0 0 0 2 1 2 1 2 1 1 0]\n",
      "% of accuracy 0.9666666666666667\n",
      "[0.9]\n",
      "data when input percentage is : 0.3\n",
      "ORIGINAL OUTPUT : [1 1 1 1 1 2 1 0 1 2 2 0 2 1 2 2 0 1 1 2 2 2 1 2 1 0 1 0 2 2 2 1 0 0 1 0 1\n",
      " 0 1 2 2 1 2 1 1]\n",
      "PREDICTED OUTPUT IS : [2 1 1 1 1 2 1 0 1 2 2 0 2 1 2 2 0 1 2 2 2 2 1 2 1 0 2 0 2 2 2 1 0 0 1 0 1\n",
      " 0 1 2 2 1 2 1 1]\n",
      "% of accuracy 0.9666666666666667\n",
      "[0.9, 0.9333333333333333]\n",
      "data when input percentage is : 0.4\n",
      "ORIGINAL OUTPUT : [2 1 0 0 1 1 1 0 2 0 2 1 0 2 1 2 1 2 2 2 0 0 0 2 0 2 0 2 2 0 1 1 0 0 2 1 2\n",
      " 0 1 0 2 0 0 2 0 2 1 1 0 1 2 2 1 0 0 2 1 0 0 0]\n",
      "PREDICTED OUTPUT IS : [2 1 0 0 1 1 1 0 2 0 2 1 0 1 1 2 1 2 2 2 0 0 0 2 0 2 0 2 2 0 1 1 0 0 1 1 2\n",
      " 0 1 0 2 0 0 2 0 2 1 1 0 1 1 2 1 0 0 2 1 0 0 0]\n",
      "% of accuracy 0.9666666666666667\n",
      "[0.9, 0.9333333333333333, 0.95]\n",
      "data when input percentage is : 0.5\n",
      "ORIGINAL OUTPUT : [1 1 2 0 0 1 0 1 0 2 2 2 2 0 1 2 0 0 1 0 2 1 2 1 1 0 1 2 1 2 2 0 1 0 2 2 1\n",
      " 0 0 0 2 0 2 0 1 1 1 1 0 2 0 2 2 1 0 1 0 1 0 0 1 1 0 1 0 0 2 0 0 1 0 2 0 0\n",
      " 1]\n",
      "PREDICTED OUTPUT IS : [2 1 2 0 0 1 0 1 0 2 2 1 2 0 1 2 0 0 1 0 2 1 2 1 1 0 1 2 1 2 2 0 1 0 2 2 1\n",
      " 0 0 0 2 0 2 0 1 1 1 1 0 2 0 2 2 1 0 1 0 1 0 0 1 1 0 1 0 0 2 0 0 2 0 2 0 0\n",
      " 1]\n",
      "% of accuracy 0.9666666666666667\n",
      "[0.9, 0.9333333333333333, 0.95, 0.96]\n"
     ]
    },
    {
     "data": {
      "image/png": "[encoded data removed]",
      "text/plain": [
       "<Figure size 432x288 with 1 Axes>"
      ]
     },
     "metadata": {},
     "output_type": "display_data"
    },
    {
     "name": "stdout",
     "output_type": "stream",
     "text": [
      "TREE CLASSIFICATION\n"
     ]
    }
   ],
   "source": [
    "#!/usr/bin/python3\n",
    "\n",
    "#getting data\n",
    "from sklearn.datasets import load_iris\n",
    "\n",
    "#for decision tree algorithm \n",
    "from sklearn import tree\n",
    "\n",
    "#to check percentage accuracy\n",
    "from sklearn.metrics import accuracy_score\n",
    "\n",
    "#to split into test and train datasets\n",
    "from sklearn.model_selection import train_test_split\n",
    "\n",
    "#to plot graph between test target and percentage\n",
    "import matplotlib.pyplot as plt\n",
    "\n",
    "#loading iris data\n",
    "iris=load_iris()\n",
    "\n",
    "#values of variations in input data\n",
    "i_d=[0.2,0.3,0.4,0.5]\n",
    "\n",
    "#list to store accuracy percentage\n",
    "accuracy_list=[]\n",
    "'''\n",
    "x = train_iris {all features value conatining 90%}\n",
    "y = test_iris {10%of the features }\n",
    "z = train_target {all labels containing 90%  iris.target}\n",
    "a = test_target {remaining 10% of iris.target}\n",
    "'''\n",
    "#now splitting data in target and train datasets\n",
    "for i in range(0,len(i_d)):\n",
    "    x,y,z,a=train_test_split(iris.data,iris.target,test_size=i_d[i],shuffle=True)\n",
    "    print(\"_Data when input percentage is :\",i_d[i])\n",
    "    clf=tree.DecisionTreeClassifier()        #calling decision tree classifier\n",
    "    trained=clf.fit(x,z)                     #now train data with decision tree\n",
    "    print(\"ORIGINAL OUTPUT :\",a)             #original output \n",
    "    output=trained.predict(y)                #now prediction\n",
    "    print(\"PREDICTED OUTPUT IS :\",output)\n",
    "    accuracy=accuracy_score(a,output)        #checking % of accuracy \n",
    "    print(\"% of accuracy\",check_percentage)\n",
    "    accuracy_list.append(accuracy)           #printing the values for stored accuracy percentage\n",
    "    print(accuracy_list)\n",
    "\n",
    "#plotting graph between actual output and output after splitting\n",
    "plt.scatter(i_d,accuracy_list,label=\"bar graph\",color='black',marker=\"o\")\n",
    "plt.plot(i_d,accuracy_list,label=\"line equation\",color='y')\n",
    "plt.xlabel(\"input data in percentage\")\n",
    "plt.ylabel(\"output data in percentage\")\n",
    "plt.legend()\n",
    "plt.show()\n",
    "\n",
    "\n",
    "#to draw tree with graphviz\n",
    "'''export_graphviz(decision_tree, out_file=\"tree.dot\", max_depth=None, feature_names=None, class_names=None, label='all', filled=False, leaves_parallel=False, impurity=True, node_ids=False, proportion=False, rotate=False, rounded=False, special_characters=False, precision=3)'''\n",
    "print(\"TREE CLASSIFICATION\")\n",
    "tree.export_graphviz(clf, out_file=\"tree.dot\", max_depth=7, feature_names=iris.feature_names, class_names=iris.target_names, filled=True, rounded=True)\n",
    "\n"
   ]
  },
  {
   "cell_type": "code",
   "execution_count": null,
   "metadata": {},
   "outputs": [],
   "source": []
  },
  {
   "cell_type": "code",
   "execution_count": null,
   "metadata": {},
   "outputs": [],
   "source": []
  }
 ],
 "metadata": {
  "kernelspec": {
   "display_name": "Python 3",
   "language": "python",
   "name": "python3"
  },
  "language_info": {
   "codemirror_mode": {
    "name": "ipython",
    "version": 3
   },
   "file_extension": ".py",
   "mimetype": "text/x-python",
   "name": "python",
   "nbconvert_exporter": "python",
   "pygments_lexer": "ipython3",
   "version": "3.5.2"
  }
 },
 "nbformat": 4,
 "nbformat_minor": 2
}
