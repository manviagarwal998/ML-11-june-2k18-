{
 "cells": [
  {
   "cell_type": "code",
   "execution_count": null,
   "metadata": {},
   "outputs": [],
   "source": []
  },
  {
   "cell_type": "code",
   "execution_count": 2,
   "metadata": {},
   "outputs": [
    {
     "name": "stdout",
     "output_type": "stream",
     "text": [
      "Feature data : [[  0.   0.   5. ...,   0.   0.   0.]\n",
      " [  0.   0.   0. ...,  10.   0.   0.]\n",
      " [  0.   0.   0. ...,  16.   9.   0.]\n",
      " ..., \n",
      " [  0.   0.   1. ...,   6.   0.   0.]\n",
      " [  0.   0.   2. ...,  12.   0.   0.]\n",
      " [  0.   0.  10. ...,  12.   1.   0.]]\n",
      "[5]\n"
     ]
    },
    {
     "data": {
      "image/png": "[encoded data removed]",
      "text/plain": [
       "<Figure size 432x288 with 1 Axes>"
      ]
     },
     "metadata": {},
     "output_type": "display_data"
    }
   ],
   "source": [
    "#!/usr/bin/python3\n",
    "\n",
    "#for support vector classifier algo \n",
    "from sklearn.datasets import load_digits\n",
    "\n",
    "import numpy as np\n",
    "\n",
    "from sklearn.svm import SVC \n",
    "\n",
    "import matplotlib.pyplot as plt\n",
    "\n",
    "#loading digit images\n",
    "digit=load_digits()\n",
    "\n",
    "#only feature data\n",
    "training_data=digit.data\n",
    "print(\"Feature data :\",training_data)\n",
    "\n",
    "#training data extract from orginal data\n",
    "td_original=np.delete(training_data,-1,axis=0)\n",
    "\n",
    "#only target data\n",
    "training_target=digit.target\n",
    "\n",
    "#training target extract from orginal target data\n",
    "tt_original=np.delete(training_target,-1)\n",
    "\n",
    "#calling support vector classifier\n",
    "sclf=SVC()\n",
    "\n",
    "#training algo\n",
    "trained=sclf.fit(td_original,tt_original)\n",
    "\n",
    "#time for prediction\n",
    "output=trained.predict(digit.data[-1].reshape([1,64]))\n",
    "print(output)\n",
    "\n",
    "#plotting testing image\n",
    "plt.imshow(digit.images[-1])\n",
    "plt.show()\n"
   ]
  },
  {
   "cell_type": "code",
   "execution_count": null,
   "metadata": {},
   "outputs": [],
   "source": []
  },
  {
   "cell_type": "code",
   "execution_count": null,
   "metadata": {},
   "outputs": [],
   "source": []
  }
 ],
 "metadata": {
  "kernelspec": {
   "display_name": "Python 3",
   "language": "python",
   "name": "python3"
  },
  "language_info": {
   "codemirror_mode": {
    "name": "ipython",
    "version": 3
   },
   "file_extension": ".py",
   "mimetype": "text/x-python",
   "name": "python",
   "nbconvert_exporter": "python",
   "pygments_lexer": "ipython3",
   "version": "3.6.5"
  }
 },
 "nbformat": 4,
 "nbformat_minor": 2
}
