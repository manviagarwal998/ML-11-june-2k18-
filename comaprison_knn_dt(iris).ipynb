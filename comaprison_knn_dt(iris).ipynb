{
 "cells": [
  {
   "cell_type": "code",
   "execution_count": 6,
   "metadata": {},
   "outputs": [
    {
     "name": "stdout",
     "output_type": "stream",
     "text": [
      "ORIGINAL OUTPUT : [2 2 0 0 0 2 2 2 2 1 2 1 1 2 1 2 1 2 1 0 1 2 0 1 0 1 1 2 0 2]\n",
      "PREDICTED OUTPUT WITH DT : [2 1 0 0 0 2 1 2 2 1 2 1 1 2 1 2 1 2 1 0 1 2 0 1 0 1 1 2 0 2]\n",
      "PREDICTED OUTPUT WITH KNN : [2 2 0 0 0 2 1 2 2 1 2 1 1 2 1 2 1 2 1 0 1 2 0 1 0 1 1 2 0 2]\n",
      "% of accuracy with DT 0.9333333333333333\n",
      "% of accuracy with KNN 0.9666666666666667\n"
     ]
    },
    {
     "data": {
      "image/png": "[encoded data removed]",
      "text/plain": [
       "<Figure size 432x288 with 1 Axes>"
      ]
     },
     "metadata": {},
     "output_type": "display_data"
    }
   ],
   "source": [
    "#!/usr/bin/python3\n",
    "\n",
    "#getting data\n",
    "from sklearn.datasets import load_iris\n",
    "\n",
    "#to check percentage accuracy\n",
    "from sklearn.metrics import accuracy_score\n",
    "\n",
    "#to split into test and train datasets\n",
    "from sklearn.model_selection import train_test_split\n",
    "\n",
    "#for k nearest neighbors algorithm \n",
    "from sklearn.neighbors import KNeighborsClassifier\n",
    "\n",
    "#for decision tree algorithm \n",
    "from sklearn import tree\n",
    "\n",
    "# to plot the graph\n",
    "import matplotlib.pyplot as plt\n",
    "\n",
    "#loading iris data\n",
    "iris=load_iris()\n",
    "\n",
    "#now splitting data in target and train datasets\n",
    "x,y,z,a=train_test_split(iris.data,iris.target,test_size=0.2)\n",
    "'''\n",
    "x=train_iris\n",
    "y=test_iris\n",
    "z=train_target\n",
    "a=test_target\n",
    "'''\n",
    "#calling decision tree classifier\n",
    "clf=tree.DecisionTreeClassifier()\n",
    "\n",
    "#calling kNn classifier\n",
    "knnclf=KNeighborsClassifier(n_neighbors=5) #5 indiactes value of k \n",
    "\n",
    "#now train data with decision tree\n",
    "trained_DT=clf.fit(x,z)\n",
    "\n",
    "#now train data with knn\n",
    "trained_KNN=knnclf.fit(x,z)\n",
    "\n",
    "#original output \n",
    "print(\"ORIGINAL OUTPUT :\",a)\n",
    "\n",
    "#now prediction with DT\n",
    "output_DT=trained_DT.predict(y)\n",
    "print(\"PREDICTED OUTPUT WITH DT :\",output_DT)\n",
    "\n",
    "#now prediction with KNN\n",
    "output_KNN=trained_KNN.predict(y)\n",
    "print(\"PREDICTED OUTPUT WITH KNN :\",output_KNN)\n",
    "\n",
    "#checking % of accuracy with DT \n",
    "check_percentage_DT=accuracy_score(a,output_DT)\n",
    "print(\"% of accuracy with DT\",check_percentage_DT)\n",
    "\n",
    "#checking % of accuracy with KNN\n",
    "check_percentage_KNN=accuracy_score(a,output_KNN)\n",
    "print(\"% of accuracy with KNN\",check_percentage_KNN)\n",
    "\n",
    "#plotting the graph\n",
    "y1=[check_percentage_DT,check_percentage_KNN]\n",
    "x1=[\"knn\",\"dclf\"]\n",
    "plt.xlabel(\"Classifiers\")\n",
    "plt.ylabel(\"% Accuracy\")\n",
    "plt.grid(color=\"Y\")\n",
    "plt.title(\"graph between algo KNN and DT classifier\")\n",
    "plt.bar(x1,y1)\n",
    "plt.show()\n"
   ]
  },
  {
   "cell_type": "code",
   "execution_count": null,
   "metadata": {},
   "outputs": [],
   "source": []
  }
 ],
 "metadata": {
  "kernelspec": {
   "display_name": "Python 3",
   "language": "python",
   "name": "python3"
  },
  "language_info": {
   "codemirror_mode": {
    "name": "ipython",
    "version": 3
   },
   "file_extension": ".py",
   "mimetype": "text/x-python",
   "name": "python",
   "nbconvert_exporter": "python",
   "pygments_lexer": "ipython3",
   "version": "3.5.2"
  }
 },
 "nbformat": 4,
 "nbformat_minor": 2
}
