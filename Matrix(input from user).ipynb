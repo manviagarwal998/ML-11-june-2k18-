{
 "cells": [
  {
   "cell_type": "code",
   "execution_count": 1,
   "metadata": {},
   "outputs": [
    {
     "name": "stdout",
     "output_type": "stream",
     "text": [
      "Enter dimension for matrix\n",
      "number of rows = 2\n",
      "number of columns = 2\n",
      "0\n",
      "0\n",
      "Enter matrix element :1\n",
      "1\n",
      "0\n",
      "Enter matrix element :1\n",
      "0\n",
      "1\n",
      "Enter matrix element :1\n",
      "1\n",
      "1\n",
      "Enter matrix element :1\n",
      "[['1', '1'], ['1', '1']]\n"
     ]
    },
    {
     "ename": "AttributeError",
     "evalue": "'builtin_function_or_method' object has no attribute 'write'",
     "output_type": "error",
     "traceback": [
      "\u001b[0;31m---------------------------------------------------------------------------\u001b[0m",
      "\u001b[0;31mAttributeError\u001b[0m                            Traceback (most recent call last)",
      "\u001b[0;32m<ipython-input-1-9645be9aad75>\u001b[0m in \u001b[0;36m<module>\u001b[0;34m()\u001b[0m\n\u001b[1;32m     22\u001b[0m \u001b[0;32mfor\u001b[0m \u001b[0mi\u001b[0m \u001b[0;32min\u001b[0m \u001b[0mrange\u001b[0m\u001b[0;34m(\u001b[0m\u001b[0mrows\u001b[0m\u001b[0;34m)\u001b[0m \u001b[0;34m:\u001b[0m\u001b[0;34m\u001b[0m\u001b[0m\n\u001b[1;32m     23\u001b[0m         \u001b[0;32mfor\u001b[0m \u001b[0mj\u001b[0m \u001b[0;32min\u001b[0m \u001b[0mrange\u001b[0m\u001b[0;34m(\u001b[0m\u001b[0mcolumns\u001b[0m\u001b[0;34m)\u001b[0m\u001b[0;34m:\u001b[0m\u001b[0;34m\u001b[0m\u001b[0m\n\u001b[0;32m---> 24\u001b[0;31m                 \u001b[0mprint\u001b[0m\u001b[0;34m.\u001b[0m\u001b[0mwrite\u001b[0m\u001b[0;34m(\u001b[0m\u001b[0mA\u001b[0m\u001b[0;34m[\u001b[0m\u001b[0mi\u001b[0m\u001b[0;34m]\u001b[0m\u001b[0;34m[\u001b[0m\u001b[0mj\u001b[0m\u001b[0;34m]\u001b[0m\u001b[0;34m)\u001b[0m\u001b[0;34m\u001b[0m\u001b[0m\n\u001b[0m\u001b[1;32m     25\u001b[0m \u001b[0;31m#closing files\u001b[0m\u001b[0;34m\u001b[0m\u001b[0;34m\u001b[0m\u001b[0m\n\u001b[1;32m     26\u001b[0m \u001b[0mfile\u001b[0m\u001b[0;34m.\u001b[0m\u001b[0mclose\u001b[0m\u001b[0;34m(\u001b[0m\u001b[0;34m)\u001b[0m\u001b[0;34m\u001b[0m\u001b[0m\n",
      "\u001b[0;31mAttributeError\u001b[0m: 'builtin_function_or_method' object has no attribute 'write'"
     ]
    }
   ],
   "source": [
    "#!/usr/bin/python\n",
    "import numpy\n",
    "\n",
    "#getting dimension from user\n",
    "print(\"Enter dimension for matrix\")\n",
    "rows=input(\"number of rows = \")\n",
    "columns=input(\"number of columns = \")\n",
    "rows=int(rows)\n",
    "columns=int(columns)\n",
    "A=[[[]for i in range(rows)] for j in range (columns)]\n",
    "#initialising the matrix\n",
    "for i in range(rows) :\n",
    "\tfor j in range(columns):\n",
    "\t\tprint (j)\n",
    "\t\tprint (i)\n",
    "\t\tA[i][j]=input(\"Enter matrix element :\")\n",
    "print(A)\n",
    "#opening file\n",
    "file = open(\"matrix_file.txt\",\"w\")\n",
    "#writing values in file\n",
    "file.write(\"Matrix : \")\n",
    "for i in range(rows) :\n",
    "\tfor j in range(columns):\n",
    "\t\tprint.write(A[i][j])\n",
    "#closing files\n",
    "file.close()\n",
    "\n",
    "arr=A\n",
    "\n",
    "arr1=arr.reshape(A)\n",
    "print(arr)\n"
   ]
  },
  {
   "cell_type": "markdown",
   "metadata": {},
   "source": [
    "# "
   ]
  }
 ],
 "metadata": {
  "kernelspec": {
   "display_name": "Python 3",
   "language": "python",
   "name": "python3"
  },
  "language_info": {
   "codemirror_mode": {
    "name": "ipython",
    "version": 3
   },
   "file_extension": ".py",
   "mimetype": "text/x-python",
   "name": "python",
   "nbconvert_exporter": "python",
   "pygments_lexer": "ipython3",
   "version": "3.5.2"
  }
 },
 "nbformat": 4,
 "nbformat_minor": 2
}
