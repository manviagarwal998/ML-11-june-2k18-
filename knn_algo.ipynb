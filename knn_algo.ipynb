{
 "cells": [
  {
   "cell_type": "code",
   "execution_count": 1,
   "metadata": {},
   "outputs": [
    {
     "name": "stdout",
     "output_type": "stream",
     "text": [
      "ORIGINAL OUTPUT : [1 1 1 2 0 0 0 0 2 2 1 0 1 1 0]\n",
      "PREDICTED OUTPUT WITH KNN : [1 1 1 2 0 0 0 0 2 2 1 0 1 1 0]\n",
      "% of accuracy with KNN 1.0\n"
     ]
    }
   ],
   "source": [
    "#!/usr/bin/python3\n",
    "\n",
    "#getting data\n",
    "from sklearn.datasets import load_iris\n",
    "\n",
    "#for k nearest neighbor algorithm \n",
    "from sklearn.neighbors import KNeighborsClassifier\n",
    "\n",
    "#to split into test and train datasets\n",
    "from sklearn.model_selection import train_test_split\n",
    "\n",
    "#to check percentage accuracy\n",
    "from sklearn.metrics  import  accuracy_score\n",
    "\n",
    "#loading iris\n",
    "iris=load_iris()\n",
    "\n",
    "#now splitting data in target and train datasets\n",
    "x,y,z,a=train_test_split(iris.data,iris.target,test_size=0.1)\n",
    "'''\n",
    "x = train_iris {all features value conatining 90%}\n",
    "y = test_iris {10%of the features }\n",
    "z = train_target {all labels containing 90%  iris.target}\n",
    "a = test_target {remaining 10% of iris.target}\n",
    "'''\n",
    "#calling knn algo\n",
    "knnclf=KNeighborsClassifier(n_neighbors=5)\n",
    "\n",
    "#data training\n",
    "trained_KNN=knnclf.fit(x,z)\n",
    "\n",
    "#original output \n",
    "print(\"ORIGINAL OUTPUT :\",a)\n",
    "\n",
    "#now prediction with KNN\n",
    "output_KNN=trained_KNN.predict(y)\n",
    "print(\"PREDICTED OUTPUT WITH KNN :\",output_KNN)\n",
    "\n",
    "#checking % of accuracy with KNN\n",
    "check_percentage_KNN=accuracy_score(a,output_KNN)\n",
    "print(\"% of accuracy with KNN\",check_percentage_KNN)"
   ]
  },
  {
   "cell_type": "code",
   "execution_count": null,
   "metadata": {},
   "outputs": [],
   "source": []
  }
 ],
 "metadata": {
  "kernelspec": {
   "display_name": "Python 3",
   "language": "python",
   "name": "python3"
  },
  "language_info": {
   "codemirror_mode": {
    "name": "ipython",
    "version": 3
   },
   "file_extension": ".py",
   "mimetype": "text/x-python",
   "name": "python",
   "nbconvert_exporter": "python",
   "pygments_lexer": "ipython3",
   "version": "3.5.2"
  }
 },
 "nbformat": 4,
 "nbformat_minor": 2
}
